{
  "nbformat": 4,
  "nbformat_minor": 0,
  "metadata": {
    "colab": {
      "provenance": [],
      "collapsed_sections": [
        "_8L24C4EI8W1",
        "3OSybSlSmAtw"
      ],
      "authorship_tag": "ABX9TyOoP2rRa8YNNBc7w4TFFImq",
      "include_colab_link": true
    },
    "kernelspec": {
      "name": "python3",
      "display_name": "Python 3"
    },
    "language_info": {
      "name": "python"
    }
  },
  "cells": [
    {
      "cell_type": "markdown",
      "metadata": {
        "id": "view-in-github",
        "colab_type": "text"
      },
      "source": [
        "<a href=\"https://colab.research.google.com/github/mohanapriya1706/Learning/blob/main/dsa.ipynb\" target=\"_parent\"><img src=\"https://colab.research.google.com/assets/colab-badge.svg\" alt=\"Open In Colab\"/></a>"
      ]
    },
    {
      "cell_type": "markdown",
      "source": [
        "# DAY 1 - 09/07/2025 - BINARY SEARCH\n",
        "\n"
      ],
      "metadata": {
        "id": "_8L24C4EI8W1"
      }
    },
    {
      "cell_type": "markdown",
      "source": [
        "### 4. Median of Two Sorted Arrays -  hard\n",
        "- get_merged_sorted_array\n",
        "- Time complexity: O(m+n), where m and n are the lengths of array1 and array2.\n",
        "- Space complexity: O(m+n) for storing the merged array.\n",
        "- calculate_median\n",
        "- Time complexity: O(1)\n",
        "- problem requires O(log(m+n)) time complexity, but your solution has O(m+n) due to the linear merge in get_merged_sorted_array.\n",
        "- To achieve O(log(m+n)), you need to avoid merging the arrays entirely. Instead, use binary search to find the correct partition point where the median lies\n",
        "\n"
      ],
      "metadata": {
        "id": "XbIvBTUT74Vo"
      }
    },
    {
      "cell_type": "code",
      "source": [
        "class Solution:\n",
        "    def get_merged_sorted_array(self, array1, array2):\n",
        "        merged_sorted_array = []\n",
        "        i,j = 0,0\n",
        "        while i < len(array1) and j < len(array2):\n",
        "            if array1[i] < array2[j]:\n",
        "                merged_sorted_array.append(array1[i])\n",
        "                i+=1\n",
        "            else:\n",
        "                merged_sorted_array.append(array2[j])\n",
        "                j+=1\n",
        "        while i < len(array1):\n",
        "            merged_sorted_array.append(array1[i])\n",
        "            i+=1\n",
        "        while j < len(array2):\n",
        "            merged_sorted_array.append(array2[j])\n",
        "            j+=1\n",
        "        print(\"Merged sorted array:\",merged_sorted_array)\n",
        "        return merged_sorted_array\n",
        "\n",
        "\n",
        "    def calculate_median(self,sorted_array,num_data_points):\n",
        "        if (num_data_points)%2 == 0:\n",
        "            median_index_right  = int(((num_data_points)//2))\n",
        "            median_index_left = median_index_right-1\n",
        "            print(\"For even length, the median index left and right is \", median_index_left,median_index_right)\n",
        "            median_value = (sorted_array[median_index_right] + sorted_array[median_index_left])/2\n",
        "            return median_value\n",
        "        else:\n",
        "            median_index  = int(((num_data_points)/2))\n",
        "            print(\"For odd length, the median index is \", median_index)\n",
        "            return sorted_array[median_index]\n",
        "\n",
        "    def findMedianSortedArrays(self, nums1: List[int], nums2: List[int]) -> float:\n",
        "        num_data_points = len(nums1) + len(nums2)\n",
        "        merged_sorted_array = self.get_merged_sorted_array(nums1,nums2)\n",
        "        return self.calculate_median(merged_sorted_array,num_data_points)"
      ],
      "metadata": {
        "id": "J6Xw4qId73qH"
      },
      "execution_count": null,
      "outputs": []
    },
    {
      "cell_type": "markdown",
      "source": [
        "Improved code"
      ],
      "metadata": {
        "id": "ZrdeexfB9jcZ"
      }
    },
    {
      "cell_type": "code",
      "source": [
        "class Solution:\n",
        "    def findMedianSortedArrays(self, nums1: List[int], nums2: List[int]) -> float:\n",
        "        # Ensure nums1 is the shorter array for binary search\n",
        "        if len(nums1) > len(nums2):\n",
        "            nums1, nums2 = nums2, nums1\n",
        "        m, n = len(nums1), len(nums2)\n",
        "        left, right = 0, m\n",
        "\n",
        "        while left <= right:\n",
        "            i = (left + right) // 2\n",
        "            j = (m + n + 1) // 2 - i\n",
        "\n",
        "            # Get left and right elements for both arrays\n",
        "            left1 = nums1[i-1] if i > 0 else float('-inf')\n",
        "            right1 = nums1[i] if i < m else float('inf')\n",
        "            left2 = nums2[j-1] if j > 0 else float('-inf')\n",
        "            right2 = nums2[j] if j < n else float('inf')\n",
        "\n",
        "            # Check if partition is valid\n",
        "            if left1 <= right2 and left2 <= right1:\n",
        "                # Valid partition, compute median\n",
        "                if (m + n) % 2 == 1:\n",
        "                    return max(left1, left2)\n",
        "                else:\n",
        "                    return (max(left1, left2) + min(right1, right2)) / 2\n",
        "            elif left1 > right2:\n",
        "                right = i - 1  # Move partition left in nums1\n",
        "            else:\n",
        "                left = i + 1   # Move partition right in nums1\n",
        "\n",
        "        return 0.0  # Should never reach here for valid inputs"
      ],
      "metadata": {
        "id": "eblmnKZLVMzf"
      },
      "execution_count": null,
      "outputs": []
    },
    {
      "cell_type": "markdown",
      "source": [
        "### 268. Missing Number - easy\n",
        "- easily solved by maths sum of natural numbers formula\n",
        "\n"
      ],
      "metadata": {
        "id": "X7_ZhpuVcBhG"
      }
    },
    {
      "cell_type": "code",
      "source": [
        "# array of distinct positive numbers\n",
        "# to find only one missing number from the range\n",
        "# okay first i thought of\n",
        "# take the length of array - if odd then split will not be equal\n",
        "# but if it is even - split of the array should be equal if not equal go for the split which is not equal and look for that by again splitting\n",
        "class Solution:\n",
        "    def missingNumber(self, nums: List[int]) -> int:\n",
        "        n = len(nums)\n",
        "        sum_of_nums = int((n*(n+1))/2)\n",
        "        print(\"Total sum for the given range:\",sum_of_nums)\n",
        "        print(\"Length for the given range:\",n)\n",
        "        actual_sum = 0\n",
        "        i = 0\n",
        "        while i < n:\n",
        "            actual_sum += nums[i]\n",
        "            actual_sum = int(actual_sum)\n",
        "            i += 1\n",
        "        missed_number = sum_of_nums - actual_sum\n",
        "        return int(missed_number)\n"
      ],
      "metadata": {
        "id": "SkHmJN-kcOi2"
      },
      "execution_count": null,
      "outputs": []
    },
    {
      "cell_type": "markdown",
      "source": [
        "# *DAY* 2 - 10/07/2025 - BINARY SEARCH\n",
        "\n",
        "- [leetcode binary search template alternative](https://leetcode.com/discuss/post/6840736/one-template-to-rule-them-all-the-ultima-y7mq/)\n"
      ],
      "metadata": {
        "id": "3OSybSlSmAtw"
      }
    },
    {
      "cell_type": "markdown",
      "source": [
        "### 35. Search Insert Position - easy"
      ],
      "metadata": {
        "id": "8slQssCDmEJb"
      }
    },
    {
      "cell_type": "code",
      "source": [
        "class Solution:\n",
        "    def searchInsert(self, nums: List[int], target: int) -> int:\n",
        "        low = 0\n",
        "        high = len(nums)-1\n",
        "        print(\"Mid value of the list:\", nums)\n",
        "        while low <= high:\n",
        "            mid = int((low + high)//2)\n",
        "            if nums[mid] < target:\n",
        "                low = mid + 1\n",
        "            elif nums[mid] > target:\n",
        "                high = mid - 1\n",
        "            else:\n",
        "                return mid\n",
        "        return low"
      ],
      "metadata": {
        "id": "bao4pGjzmJ4M"
      },
      "execution_count": null,
      "outputs": []
    },
    {
      "cell_type": "markdown",
      "source": [
        "### 278. First Bad Version - easy"
      ],
      "metadata": {
        "id": "qPgHJuQLroSi"
      }
    },
    {
      "cell_type": "code",
      "source": [
        "# The isBadVersion API is already defined for you.\n",
        "# def isBadVersion(version: int) -> bool:\n",
        "\n",
        "\n",
        "# looks like can be solved by binary search\n",
        "# assuming is badversion has list of versions\n",
        "# calling it making accessible to the list\n",
        "# if n = 5, 5 distinct elements\n",
        "# gt the mid by 5//2\n",
        "# call the mid version\n",
        "# if mid is failed, then check for low failed and high failed, then nothing failed increase low and high\n",
        "# if one of the any is failed shift the other to mid\n",
        "# again repeat calculation mid and repeat until\n",
        "# so before and after - when there is alternate values return that\n",
        "class Solution:\n",
        "    def firstBadVersion(self, n: int) -> int:\n",
        "        low = 1\n",
        "        high = n\n",
        "        while low <= high:\n",
        "            mid = (low+high)//2\n",
        "            if isBadVersion(low):\n",
        "                return low\n",
        "            elif isBadVersion(mid):\n",
        "                high = mid\n",
        "            else:\n",
        "                low = mid+1\n",
        "        return low"
      ],
      "metadata": {
        "id": "1MsGBAxwrmat"
      },
      "execution_count": null,
      "outputs": []
    },
    {
      "cell_type": "markdown",
      "source": [
        "Optimal one"
      ],
      "metadata": {
        "id": "IFzGk-nc7lp9"
      }
    },
    {
      "cell_type": "code",
      "source": [
        "class Solution:\n",
        "    def firstBadVersion(self, n: int) -> int:\n",
        "        low = 1\n",
        "        high = n\n",
        "        while low < high:\n",
        "            mid = (low + high) // 2\n",
        "            if isBadVersion(mid):\n",
        "                high = mid  # mid might be the first bad version\n",
        "            else:\n",
        "                low = mid + 1  # mid is good, so the first bad is after it\n",
        "        return low\n"
      ],
      "metadata": {
        "id": "-HZgP5XG7mvk"
      },
      "execution_count": null,
      "outputs": []
    },
    {
      "cell_type": "markdown",
      "source": [
        "### 81. Search in Rotated Sorted Array II - medium"
      ],
      "metadata": {
        "id": "l8dxQFqDRcvU"
      }
    },
    {
      "cell_type": "markdown",
      "source": [
        "# DAY 3 - 11/07/2025 - Grind 75 - Brute force\n",
        "- [Grind 75](https://www.techinterviewhandbook.org/grind75/?order=topics)\n",
        "\n",
        "### Covered\n",
        "- two sum\n",
        "- kadane's algorithm\n",
        "- best time to buy and sell stock"
      ],
      "metadata": {
        "id": "f4iDefiETpid"
      }
    },
    {
      "cell_type": "code",
      "source": [
        "# 1. Two Sum\n",
        "\n",
        "class Solution:\n",
        "    def twoSum(self, nums: List[int], target: int) -> List[int]:\n",
        "        for i in range(len(nums)):\n",
        "            for j in range(i+1,len(nums)):\n",
        "                if nums[i]+nums[j]==target:\n",
        "                    return [i,j]"
      ],
      "metadata": {
        "id": "w2tDXPSyT-dy"
      },
      "execution_count": null,
      "outputs": []
    },
    {
      "cell_type": "markdown",
      "source": [
        "### Kadane's Algorithm\n",
        "- [Youtube video explanation](https://www.youtube.com/watch?v=AHZpyENo7k4)"
      ],
      "metadata": {
        "id": "yIUhGQIbvDjS"
      }
    },
    {
      "cell_type": "code",
      "source": [
        "# https://leetcode.com/problems/best-time-to-buy-and-sell-stock/\n",
        "# 121. Best Time to Buy and Sell Stock\n",
        "# Kadane's Algorithm\n",
        "\n",
        "# Failed usecase but possible solution\n",
        "class Solution:\n",
        "    def maxProfit(self, prices: List[int]) -> int:\n",
        "        profit = 0\n",
        "        for i in range(len(prices)):\n",
        "            for j in range(i+1, len(prices)):\n",
        "                if prices[j] > prices[i]:\n",
        "                    new_profit = prices[j] - prices[i]\n",
        "                    if new_profit > profit:\n",
        "                        profit = new_profit\n",
        "        return profit"
      ],
      "metadata": {
        "id": "02bG_Ve8UKhj"
      },
      "execution_count": null,
      "outputs": []
    },
    {
      "cell_type": "code",
      "source": [
        "# my Kadane's algorithm - wrong\n",
        "\n",
        "arr = [1, 2, 3, -4, -5, 7, -6, 8]\n",
        "\n",
        "def kandanes_algo(arr):\n",
        "  max_sum = arr[0]\n",
        "  current_sum = arr[0]\n",
        "  temp_start = 0\n",
        "  start = 0\n",
        "  end = 0\n",
        "  for i in range(1,len(arr)):\n",
        "    current_sum = current_sum + arr[i]   # I should not blindly added here bcoz i should check whether element is negative or not\n",
        "    print(f\"Current sum for the iteration {i} is {current_sum}\")\n",
        "    if current_sum > max_sum:   # there should be two starts\n",
        "      start = i\n",
        "      print(f\"Current sum:{current_sum} is greater than Max sum:{max_sum}\")  # for max and current comparing, there should be start updation and for new start comparison fo summing up temp start should be there\n",
        "      max_sum = current_sum\n",
        "      print(\"New max sum:\",max_sum)\n",
        "      end = i\n",
        "    elif current_sum < 0:\n",
        "      end = i\n",
        "      temp_start = end + 1\n",
        "      current_sum = 0\n",
        "      print(f\"Removing the subarray due to negative sum and restarting with start index:{temp_start} and end index:{end}\")\n",
        "    print(f\"Current Max subarray for start index:{temp_start} and end_index: {end}: {arr[temp_start:end+1]}\")\n",
        "  max_sub_array = arr[temp_start:end+1]\n",
        "  return max_sum, max_sub_array"
      ],
      "metadata": {
        "id": "K5TN7S57aqVe"
      },
      "execution_count": null,
      "outputs": []
    },
    {
      "cell_type": "code",
      "source": [],
      "metadata": {
        "id": "y7yOebq_7G05"
      },
      "execution_count": null,
      "outputs": []
    },
    {
      "cell_type": "markdown",
      "source": [
        "You will be having array containing negative and postivie numbers\n",
        "You should fiind max contagious subarray, as well as the max number\n",
        "\n",
        "initializde varaible to tract start, end and max and current sum\n",
        "sot he current sum will be first value fo the array which is index 0\n",
        "we need to add the contagious number iff the current sum is  greater than adding that\n",
        "if it is greater we cAN update the current sum\n",
        "if it is not we can leave it\n"
      ],
      "metadata": {
        "id": "4FPYSsqhBQFl"
      }
    },
    {
      "cell_type": "code",
      "source": [
        "from typing import List\n",
        "\n",
        "class Solution:\n",
        "    def maxSubArray(self, nums: List[int]) -> List[int]:\n",
        "        maxSum = float('-inf')\n",
        "        currentSum = 0\n",
        "        start = 0\n",
        "        end = 0\n",
        "        temp_start = 0\n",
        "\n",
        "        for i in range(len(nums)):\n",
        "            currentSum += nums[i]\n",
        "\n",
        "            if currentSum > maxSum:\n",
        "                maxSum = currentSum\n",
        "                start = temp_start\n",
        "                end = i\n",
        "\n",
        "            if currentSum < 0:\n",
        "                currentSum = 0\n",
        "                temp_start = i + 1\n",
        "\n",
        "        return nums[start:end+1]  # Subarray with the max sum\n"
      ],
      "metadata": {
        "id": "HnaGBuyo4tcx"
      },
      "execution_count": null,
      "outputs": []
    },
    {
      "cell_type": "markdown",
      "source": [
        "### 121. Best Time to Buy and Sell Stock - easy\n",
        "\n",
        "[leetcode](https://leetcode.com/problems/best-time-to-buy-and-sell-stock/description/)\n",
        "\n",
        "- kadanes algorithm\n",
        "\n",
        "\n",
        "You are given an array prices where prices[i] is the price of a given stock on the ith day.\n",
        "\n",
        "You want to maximize your profit by choosing a single day to buy one stock and choosing a different day in the future to sell that stock.\n",
        "\n",
        "Return the maximum profit you can achieve from this transaction. If you cannot achieve any profit, return 0."
      ],
      "metadata": {
        "id": "aoek8CNSBRbs"
      }
    },
    {
      "cell_type": "code",
      "source": [
        "# Input:  prices = [7, 6, 4, 3, 1]\n",
        "# Output: 0\n",
        "\n",
        "prices = [7, 1, 5, 3, 6, 4]\n",
        "# Output: 5\n",
        "\n",
        "def maxProfit(prices) -> int:\n",
        "  min_price = float('inf')\n",
        "  max_profit = 0\n",
        "  current_profit = 0\n",
        "  sell = 0\n",
        "  for i in range(len(prices)):\n",
        "    if prices[i]<min_price:\n",
        "      min_price = prices[i]\n",
        "      print(f\"Min price assiged now is {min_price}\")\n",
        "\n",
        "    current_profit = prices[i] - min_price\n",
        "    print(\"Current profit: \",current_profit)\n",
        "    if current_profit > max_profit:\n",
        "      max_profit = current_profit\n",
        "  return max_profit\n"
      ],
      "metadata": {
        "id": "L3u0NcPCatlS"
      },
      "execution_count": null,
      "outputs": []
    },
    {
      "cell_type": "code",
      "source": [
        "maxProfit(prices)\n"
      ],
      "metadata": {
        "colab": {
          "base_uri": "https://localhost:8080/"
        },
        "id": "MSN5O_oZM3jo",
        "outputId": "f71d139f-de17-43a1-8d6b-1e13dc19bf4a"
      },
      "execution_count": null,
      "outputs": [
        {
          "output_type": "stream",
          "name": "stdout",
          "text": [
            "Min price assiged now is 7\n",
            "Current profit:  0\n",
            "Min price assiged now is 1\n",
            "Current profit:  0\n",
            "Current profit:  4\n",
            "Current profit:  2\n",
            "Current profit:  5\n",
            "Current profit:  3\n"
          ]
        },
        {
          "output_type": "execute_result",
          "data": {
            "text/plain": [
              "5"
            ]
          },
          "metadata": {},
          "execution_count": 33
        }
      ]
    },
    {
      "cell_type": "markdown",
      "source": [
        "### Next sum"
      ],
      "metadata": {
        "id": "y6A34g2lVA1R"
      }
    },
    {
      "cell_type": "markdown",
      "source": [
        "# DAY 4 - 12/07/2025 - Binary search easy"
      ],
      "metadata": {
        "id": "hNudqYjUcZYt"
      }
    },
    {
      "cell_type": "markdown",
      "source": [
        "### 35. Search Insert Position"
      ],
      "metadata": {
        "id": "5z7aJkNZr9Oy"
      }
    },
    {
      "cell_type": "markdown",
      "source": [
        "Given a sorted array of distinct integers and a target value, return the index if the target is found. If not, return the index where it would be if it were inserted in order.\n",
        "\n",
        "You must write an algorithm with O(log n) runtime complexity."
      ],
      "metadata": {
        "id": "2Db0OTLYm1mb"
      }
    },
    {
      "cell_type": "markdown",
      "source": [
        "Finding the index of a target in the sorted array present or not."
      ],
      "metadata": {
        "id": "lY-lB3fCnBVA"
      }
    },
    {
      "cell_type": "code",
      "source": [
        "arr = [1,2,3,4,5]\n",
        "target = 3\n",
        "\n",
        "arr1= [1,2,3,4]\n",
        "target1 = 3\n",
        "\n",
        "arr2 = [1,2,3,4]\n",
        "target2 = 2\n",
        "\n",
        "arr3 = [1,3,4,5,6]\n",
        "target3 = 2\n",
        "\n",
        "arr4 = [1,5,6]\n",
        "target4 = 7\n",
        "\n",
        "# since it is sorted, and finding single value it should be either left or right\n",
        "# get the middle value, compare with low and high\n",
        "# based on the condition move left or right decreasing the search space\n",
        "# return the index at last if not found also\n",
        "def find_target_index(arr,target):\n",
        "  low = 0\n",
        "  high = len(arr)-1\n",
        "  while low <= high:\n",
        "    mid = int((low+high)//2)\n",
        "    print(\"----------------\")\n",
        "    print(\"Low:\",low)\n",
        "    print(\"Mid:\",mid)\n",
        "    print(\"High:\",high)\n",
        "    if target < arr[mid]:\n",
        "      high = mid - 1\n",
        "    elif target > arr[mid]:\n",
        "      low = mid + 1\n",
        "    else:\n",
        "      return mid\n",
        "  return low"
      ],
      "metadata": {
        "id": "ksddAJfPjI4P"
      },
      "execution_count": null,
      "outputs": []
    },
    {
      "cell_type": "markdown",
      "source": [
        "### 69. Sqrt(x)"
      ],
      "metadata": {
        "id": "mAKDSXF8sIm3"
      }
    },
    {
      "cell_type": "markdown",
      "source": [
        "Given a non-negative integer x, return the square root of x rounded down to the nearest integer. The returned integer should be non-negative as well.\n",
        "\n",
        "You must not use any built-in exponent function or operator.\n",
        "\n",
        "For example, do not use pow(x, 0.5) in c++ or x ** 0.5 in python.\n"
      ],
      "metadata": {
        "id": "Xqx4jw9dsLpU"
      }
    },
    {
      "cell_type": "code",
      "source": [
        "x = 9\n",
        "y = 3\n",
        "\n",
        "x1 = 2\n",
        "y2 = 1\n",
        "\n",
        "x3 = 25\n",
        "y3 = 5\n",
        "\n",
        "# y**2 = x\n",
        "\n",
        "def find_rounded_sqroot(x):\n",
        "    arr = list(range(x + 1))\n",
        "    low = 0\n",
        "    high = len(arr) - 1\n",
        "\n",
        "    while low <= high:\n",
        "        mid = (low + high) // 2\n",
        "        if arr[mid] * arr[mid] == x:\n",
        "            return arr[mid]\n",
        "        elif arr[mid] * arr[mid] < x:\n",
        "            low = mid + 1\n",
        "        else:\n",
        "            high = mid - 1\n",
        "\n",
        "    return arr[high]\n",
        "\n",
        "\n",
        "# improved version\n",
        "\n",
        "def find_rounded_sqroot(x):\n",
        "    if x < 2:\n",
        "        return x\n",
        "\n",
        "    low, high = 1, x\n",
        "    while low <= high:\n",
        "        mid = (low + high) // 2\n",
        "        if mid * mid == x:\n",
        "            return mid\n",
        "        elif mid * mid < x:\n",
        "            low = mid + 1\n",
        "        else:\n",
        "            high = mid - 1\n",
        "    return high  # high will be the floor of sqrt(x)\n"
      ],
      "metadata": {
        "id": "JB88sqybsObb"
      },
      "execution_count": null,
      "outputs": []
    }
  ]
}